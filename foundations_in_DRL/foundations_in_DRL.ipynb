{
 "metadata": {
  "language_info": {
   "codemirror_mode": {
    "name": "ipython",
    "version": 3
   },
   "file_extension": ".py",
   "mimetype": "text/x-python",
   "name": "python",
   "nbconvert_exporter": "python",
   "pygments_lexer": "ipython3",
   "version": "3.8.3-final"
  },
  "orig_nbformat": 2,
  "kernelspec": {
   "name": "Python 3.8.3 64-bit",
   "display_name": "Python 3.8.3 64-bit",
   "metadata": {
    "interpreter": {
     "hash": "4cd7ab41f5fca4b9b44701077e38c5ffd31fe66a6cab21e0214b68d958d0e462"
    }
   }
  }
 },
 "nbformat": 4,
 "nbformat_minor": 2,
 "cells": [
  {
   "source": [
    "# Exploring Deep Reinforcement Learing with Jupyter notebooks\n",
    "I wanted to try and see how easy it was to create a jupyter notebook in visual studio code. Turns out it's stupid easy. Anyways, I wanted to see if I coudld have a companion jupyter notebook for my notes and experiments in deep reinforcement learning and the book, <b>Foundations in Deep Reinforcement Learning</b>. "
   ],
   "cell_type": "markdown",
   "metadata": {}
  },
  {
   "source": [
    "## Chapter 1: Introduction to Reinforcement Learning\n",
    "### 1.1 Reinforcement Learning\n",
    ".\n",
    "\n",
    ".\n",
    "\n",
    ".\n",
    "\n",
    "### 1.n Reinforcement Learning"
   ],
   "cell_type": "markdown",
   "metadata": {}
  },
  {
   "cell_type": "code",
   "execution_count": 2,
   "metadata": {
    "tags": []
   },
   "outputs": [
    {
     "output_type": "stream",
     "name": "stdout",
     "text": "Chapter 1: Introduction to DRL!\n"
    }
   ],
   "source": [
    "print(\"Chapter 1: Introduction to DRL!\")"
   ]
  },
  {
   "cell_type": "code",
   "execution_count": 6,
   "metadata": {
    "tags": []
   },
   "outputs": [
    {
     "output_type": "stream",
     "name": "stdout",
     "text": "This is a test\n"
    }
   ],
   "source": [
    "def test():\n",
    "    print(\"This is a test\")\n",
    "    print(\"This is the second test\")\n",
    "test()"
   ]
  },
  {
   "cell_type": "code",
   "execution_count": null,
   "metadata": {},
   "outputs": [],
   "source": []
  }
 ]
}